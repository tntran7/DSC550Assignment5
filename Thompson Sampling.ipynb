{
 "cells": [
  {
   "cell_type": "code",
   "execution_count": 1,
   "id": "bc6b1d5f",
   "metadata": {},
   "outputs": [
    {
     "name": "stdout",
     "output_type": "stream",
     "text": [
      "Machine number 1 was selected 8065.0 times\n",
      "Machine number 2 was selected 78.0 times\n",
      "Machine number 3 was selected 1527.0 times\n",
      "Machine number 4 was selected 254.0 times\n",
      "Machine number 5 was selected 76.0 times\n",
      "Conclusion: Best machine is machine number 1\n"
     ]
    }
   ],
   "source": [
    "# Thompson Sampling for Slot Machines\n",
    "\n",
    "# Importing the libraries\n",
    "import numpy as np\n",
    "\n",
    "# Setting conversion rates and the number of samples\n",
    "conversionRates = [0.15, 0.04, 0.13, 0.11, 0.05]\n",
    "N = 10000\n",
    "d = len(conversionRates)\n",
    "\n",
    "# Creating the dataset\n",
    "X = np.zeros((N, d))\n",
    "for i in range(N):\n",
    "    for j in range(d):\n",
    "        if np.random.rand() < conversionRates[j]:\n",
    "            X[i][j] = 1\n",
    "\n",
    "# Making arrays to count our losses and wins\n",
    "nPosReward = np.zeros(d)\n",
    "nNegReward = np.zeros(d)\n",
    "\n",
    "# Taking our best slot machine through beta distibution and updating its losses and wins\n",
    "for i in range(N):\n",
    "    selected = 0\n",
    "    maxRandom = 0\n",
    "    for j in range(d):\n",
    "        randomBeta = np.random.beta(nPosReward[j] + 1, nNegReward[j] + 1)\n",
    "        if randomBeta > maxRandom:\n",
    "            maxRandom = randomBeta\n",
    "            selected = j\n",
    "    if X[i][selected] == 1:\n",
    "        nPosReward[selected] += 1\n",
    "    else:\n",
    "        nNegReward[selected] += 1\n",
    "\n",
    "# Showing which slot machine is considered the best\n",
    "nSelected = nPosReward + nNegReward \n",
    "for i in range(d):\n",
    "    print('Machine number ' + str(i + 1) + ' was selected ' + str(nSelected[i]) + ' times')\n",
    "print('Conclusion: Best machine is machine number ' + str(np.argmax(nSelected) + 1))"
   ]
  },
  {
   "cell_type": "code",
   "execution_count": 2,
   "id": "569cbb9f",
   "metadata": {},
   "outputs": [
    {
     "data": {
      "image/png": "[encoded data removed]",
      "text/plain": [
       "<Figure size 432x288 with 1 Axes>"
      ]
     },
     "metadata": {
      "needs_background": "light"
     },
     "output_type": "display_data"
    }
   ],
   "source": [
    "from matplotlib import pyplot as plt\n",
    "\n",
    "plt.hist(nPosReward)\n",
    "plt.title('Number of Wins')\n",
    "plt.show()"
   ]
  },
  {
   "cell_type": "code",
   "execution_count": 3,
   "id": "533b1549",
   "metadata": {},
   "outputs": [
    {
     "data": {
      "image/png": "[encoded data removed]",
      "text/plain": [
       "<Figure size 432x288 with 1 Axes>"
      ]
     },
     "metadata": {
      "needs_background": "light"
     },
     "output_type": "display_data"
    }
   ],
   "source": [
    "plt.hist(nNegReward)\n",
    "plt.title('Number of Losses')\n",
    "plt.show()"
   ]
  },
  {
   "cell_type": "code",
   "execution_count": 4,
   "id": "50fabade",
   "metadata": {
    "scrolled": true
   },
   "outputs": [
    {
     "name": "stdout",
     "output_type": "stream",
     "text": [
      "N = 200 d = 3 range = (0.0, 0.1) | result Thompson Sampling = 600 result Standard solution = 577\n",
      "N = 200 d = 4 range = (0.0, 0.1) | result Thompson Sampling = 555 result Standard solution = 510\n",
      "N = 200 d = 5 range = (0.0, 0.1) | result Thompson Sampling = 454 result Standard solution = 442\n",
      "N = 200 d = 6 range = (0.0, 0.1) | result Thompson Sampling = 394 result Standard solution = 398\n",
      "N = 200 d = 7 range = (0.0, 0.1) | result Thompson Sampling = 360 result Standard solution = 348\n",
      "N = 200 d = 8 range = (0.0, 0.1) | result Thompson Sampling = 321 result Standard solution = 297\n",
      "N = 200 d = 9 range = (0.0, 0.1) | result Thompson Sampling = 293 result Standard solution = 278\n",
      "N = 200 d = 10 range = (0.0, 0.1) | result Thompson Sampling = 277 result Standard solution = 234\n",
      "N = 200 d = 11 range = (0.0, 0.1) | result Thompson Sampling = 256 result Standard solution = 230\n",
      "N = 200 d = 12 range = (0.0, 0.1) | result Thompson Sampling = 228 result Standard solution = 200\n",
      "N = 200 d = 13 range = (0.0, 0.1) | result Thompson Sampling = 215 result Standard solution = 187\n",
      "N = 200 d = 14 range = (0.0, 0.1) | result Thompson Sampling = 199 result Standard solution = 169\n",
      "N = 200 d = 15 range = (0.0, 0.1) | result Thompson Sampling = 185 result Standard solution = 179\n",
      "N = 200 d = 16 range = (0.0, 0.1) | result Thompson Sampling = 166 result Standard solution = 166\n",
      "N = 200 d = 17 range = (0.0, 0.1) | result Thompson Sampling = 147 result Standard solution = 140\n",
      "N = 200 d = 18 range = (0.0, 0.1) | result Thompson Sampling = 141 result Standard solution = 145\n",
      "N = 200 d = 19 range = (0.0, 0.1) | result Thompson Sampling = 157 result Standard solution = 140\n",
      "N = 200 d = 20 range = (0.0, 0.1) | result Thompson Sampling = 139 result Standard solution = 129\n",
      "N = 200 d = 3 range = (0.0, 0.3) | result Thompson Sampling = 749 result Standard solution = 642\n",
      "N = 200 d = 4 range = (0.0, 0.3) | result Thompson Sampling = 663 result Standard solution = 586\n",
      "N = 200 d = 5 range = (0.0, 0.3) | result Thompson Sampling = 615 result Standard solution = 531\n",
      "N = 200 d = 6 range = (0.0, 0.3) | result Thompson Sampling = 563 result Standard solution = 449\n",
      "N = 200 d = 7 range = (0.0, 0.3) | result Thompson Sampling = 489 result Standard solution = 420\n",
      "N = 200 d = 8 range = (0.0, 0.3) | result Thompson Sampling = 476 result Standard solution = 404\n",
      "N = 200 d = 9 range = (0.0, 0.3) | result Thompson Sampling = 423 result Standard solution = 346\n",
      "N = 200 d = 10 range = (0.0, 0.3) | result Thompson Sampling = 390 result Standard solution = 324\n",
      "N = 200 d = 11 range = (0.0, 0.3) | result Thompson Sampling = 373 result Standard solution = 318\n",
      "N = 200 d = 12 range = (0.0, 0.3) | result Thompson Sampling = 347 result Standard solution = 280\n",
      "N = 200 d = 13 range = (0.0, 0.3) | result Thompson Sampling = 304 result Standard solution = 271\n",
      "N = 200 d = 14 range = (0.0, 0.3) | result Thompson Sampling = 323 result Standard solution = 252\n",
      "N = 200 d = 15 range = (0.0, 0.3) | result Thompson Sampling = 283 result Standard solution = 246\n",
      "N = 200 d = 16 range = (0.0, 0.3) | result Thompson Sampling = 276 result Standard solution = 194\n",
      "N = 200 d = 17 range = (0.0, 0.3) | result Thompson Sampling = 248 result Standard solution = 204\n",
      "N = 200 d = 18 range = (0.0, 0.3) | result Thompson Sampling = 221 result Standard solution = 176\n",
      "N = 200 d = 19 range = (0.0, 0.3) | result Thompson Sampling = 243 result Standard solution = 185\n",
      "N = 200 d = 20 range = (0.0, 0.3) | result Thompson Sampling = 213 result Standard solution = 164\n",
      "N = 200 d = 3 range = (0.0, 0.5) | result Thompson Sampling = 830 result Standard solution = 713\n",
      "N = 200 d = 4 range = (0.0, 0.5) | result Thompson Sampling = 718 result Standard solution = 627\n",
      "N = 200 d = 5 range = (0.0, 0.5) | result Thompson Sampling = 690 result Standard solution = 596\n",
      "N = 200 d = 6 range = (0.0, 0.5) | result Thompson Sampling = 630 result Standard solution = 493\n",
      "N = 200 d = 7 range = (0.0, 0.5) | result Thompson Sampling = 587 result Standard solution = 471\n",
      "N = 200 d = 8 range = (0.0, 0.5) | result Thompson Sampling = 562 result Standard solution = 444\n",
      "N = 200 d = 9 range = (0.0, 0.5) | result Thompson Sampling = 541 result Standard solution = 443\n",
      "N = 200 d = 10 range = (0.0, 0.5) | result Thompson Sampling = 497 result Standard solution = 362\n",
      "N = 200 d = 11 range = (0.0, 0.5) | result Thompson Sampling = 458 result Standard solution = 343\n",
      "N = 200 d = 12 range = (0.0, 0.5) | result Thompson Sampling = 458 result Standard solution = 313\n",
      "N = 200 d = 13 range = (0.0, 0.5) | result Thompson Sampling = 424 result Standard solution = 303\n",
      "N = 200 d = 14 range = (0.0, 0.5) | result Thompson Sampling = 387 result Standard solution = 277\n",
      "N = 200 d = 15 range = (0.0, 0.5) | result Thompson Sampling = 362 result Standard solution = 264\n",
      "N = 200 d = 16 range = (0.0, 0.5) | result Thompson Sampling = 355 result Standard solution = 255\n",
      "N = 200 d = 17 range = (0.0, 0.5) | result Thompson Sampling = 323 result Standard solution = 220\n",
      "N = 200 d = 18 range = (0.0, 0.5) | result Thompson Sampling = 318 result Standard solution = 241\n",
      "N = 200 d = 19 range = (0.0, 0.5) | result Thompson Sampling = 287 result Standard solution = 232\n",
      "N = 200 d = 20 range = (0.0, 0.5) | result Thompson Sampling = 287 result Standard solution = 235\n",
      "N = 1000 d = 3 range = (0.0, 0.1) | result Thompson Sampling = 803 result Standard solution = 712\n",
      "N = 1000 d = 4 range = (0.0, 0.1) | result Thompson Sampling = 721 result Standard solution = 645\n",
      "N = 1000 d = 5 range = (0.0, 0.1) | result Thompson Sampling = 652 result Standard solution = 552\n",
      "N = 1000 d = 6 range = (0.0, 0.1) | result Thompson Sampling = 617 result Standard solution = 512\n",
      "N = 1000 d = 7 range = (0.0, 0.1) | result Thompson Sampling = 531 result Standard solution = 452\n",
      "N = 1000 d = 8 range = (0.0, 0.1) | result Thompson Sampling = 485 result Standard solution = 400\n",
      "N = 1000 d = 9 range = (0.0, 0.1) | result Thompson Sampling = 484 result Standard solution = 421\n",
      "N = 1000 d = 10 range = (0.0, 0.1) | result Thompson Sampling = 447 result Standard solution = 367\n",
      "N = 1000 d = 11 range = (0.0, 0.1) | result Thompson Sampling = 400 result Standard solution = 319\n",
      "N = 1000 d = 12 range = (0.0, 0.1) | result Thompson Sampling = 378 result Standard solution = 318\n",
      "N = 1000 d = 13 range = (0.0, 0.1) | result Thompson Sampling = 346 result Standard solution = 296\n",
      "N = 1000 d = 14 range = (0.0, 0.1) | result Thompson Sampling = 341 result Standard solution = 277\n",
      "N = 1000 d = 15 range = (0.0, 0.1) | result Thompson Sampling = 303 result Standard solution = 235\n",
      "N = 1000 d = 16 range = (0.0, 0.1) | result Thompson Sampling = 278 result Standard solution = 259\n",
      "N = 1000 d = 17 range = (0.0, 0.1) | result Thompson Sampling = 265 result Standard solution = 211\n",
      "N = 1000 d = 18 range = (0.0, 0.1) | result Thompson Sampling = 277 result Standard solution = 211\n",
      "N = 1000 d = 19 range = (0.0, 0.1) | result Thompson Sampling = 265 result Standard solution = 196\n",
      "N = 1000 d = 20 range = (0.0, 0.1) | result Thompson Sampling = 245 result Standard solution = 200\n",
      "N = 1000 d = 3 range = (0.0, 0.3) | result Thompson Sampling = 886 result Standard solution = 737\n",
      "N = 1000 d = 4 range = (0.0, 0.3) | result Thompson Sampling = 814 result Standard solution = 687\n",
      "N = 1000 d = 5 range = (0.0, 0.3) | result Thompson Sampling = 763 result Standard solution = 634\n",
      "N = 1000 d = 6 range = (0.0, 0.3) | result Thompson Sampling = 756 result Standard solution = 604\n",
      "N = 1000 d = 7 range = (0.0, 0.3) | result Thompson Sampling = 715 result Standard solution = 531\n",
      "N = 1000 d = 8 range = (0.0, 0.3) | result Thompson Sampling = 667 result Standard solution = 510\n",
      "N = 1000 d = 9 range = (0.0, 0.3) | result Thompson Sampling = 625 result Standard solution = 482\n",
      "N = 1000 d = 10 range = (0.0, 0.3) | result Thompson Sampling = 634 result Standard solution = 451\n",
      "N = 1000 d = 11 range = (0.0, 0.3) | result Thompson Sampling = 581 result Standard solution = 428\n",
      "N = 1000 d = 12 range = (0.0, 0.3) | result Thompson Sampling = 560 result Standard solution = 421\n",
      "N = 1000 d = 13 range = (0.0, 0.3) | result Thompson Sampling = 533 result Standard solution = 384\n",
      "N = 1000 d = 14 range = (0.0, 0.3) | result Thompson Sampling = 506 result Standard solution = 369\n",
      "N = 1000 d = 15 range = (0.0, 0.3) | result Thompson Sampling = 487 result Standard solution = 354\n",
      "N = 1000 d = 16 range = (0.0, 0.3) | result Thompson Sampling = 486 result Standard solution = 338\n",
      "N = 1000 d = 17 range = (0.0, 0.3) | result Thompson Sampling = 447 result Standard solution = 323\n",
      "N = 1000 d = 18 range = (0.0, 0.3) | result Thompson Sampling = 443 result Standard solution = 338\n",
      "N = 1000 d = 19 range = (0.0, 0.3) | result Thompson Sampling = 401 result Standard solution = 262\n",
      "N = 1000 d = 20 range = (0.0, 0.3) | result Thompson Sampling = 381 result Standard solution = 286\n",
      "N = 1000 d = 3 range = (0.0, 0.5) | result Thompson Sampling = 909 result Standard solution = 794\n",
      "N = 1000 d = 4 range = (0.0, 0.5) | result Thompson Sampling = 880 result Standard solution = 735\n",
      "N = 1000 d = 5 range = (0.0, 0.5) | result Thompson Sampling = 838 result Standard solution = 693\n",
      "N = 1000 d = 6 range = (0.0, 0.5) | result Thompson Sampling = 795 result Standard solution = 634\n",
      "N = 1000 d = 7 range = (0.0, 0.5) | result Thompson Sampling = 780 result Standard solution = 623\n",
      "N = 1000 d = 8 range = (0.0, 0.5) | result Thompson Sampling = 740 result Standard solution = 576\n",
      "N = 1000 d = 9 range = (0.0, 0.5) | result Thompson Sampling = 759 result Standard solution = 539\n",
      "N = 1000 d = 10 range = (0.0, 0.5) | result Thompson Sampling = 699 result Standard solution = 513\n",
      "N = 1000 d = 11 range = (0.0, 0.5) | result Thompson Sampling = 680 result Standard solution = 490\n",
      "N = 1000 d = 12 range = (0.0, 0.5) | result Thompson Sampling = 656 result Standard solution = 475\n",
      "N = 1000 d = 13 range = (0.0, 0.5) | result Thompson Sampling = 629 result Standard solution = 407\n",
      "N = 1000 d = 14 range = (0.0, 0.5) | result Thompson Sampling = 614 result Standard solution = 441\n",
      "N = 1000 d = 15 range = (0.0, 0.5) | result Thompson Sampling = 571 result Standard solution = 416\n",
      "N = 1000 d = 16 range = (0.0, 0.5) | result Thompson Sampling = 580 result Standard solution = 377\n",
      "N = 1000 d = 17 range = (0.0, 0.5) | result Thompson Sampling = 545 result Standard solution = 380\n",
      "N = 1000 d = 18 range = (0.0, 0.5) | result Thompson Sampling = 515 result Standard solution = 362\n",
      "N = 1000 d = 19 range = (0.0, 0.5) | result Thompson Sampling = 519 result Standard solution = 324\n",
      "N = 1000 d = 20 range = (0.0, 0.5) | result Thompson Sampling = 503 result Standard solution = 320\n",
      "N = 5000 d = 3 range = (0.0, 0.1) | result Thompson Sampling = 896 result Standard solution = 760\n",
      "N = 5000 d = 4 range = (0.0, 0.1) | result Thompson Sampling = 858 result Standard solution = 726\n",
      "N = 5000 d = 5 range = (0.0, 0.1) | result Thompson Sampling = 804 result Standard solution = 655\n",
      "N = 5000 d = 6 range = (0.0, 0.1) | result Thompson Sampling = 779 result Standard solution = 625\n",
      "N = 5000 d = 7 range = (0.0, 0.1) | result Thompson Sampling = 738 result Standard solution = 565\n"
     ]
    },
    {
     "ename": "KeyboardInterrupt",
     "evalue": "",
     "output_type": "error",
     "traceback": [
      "\u001b[1;31m---------------------------------------------------------------------------\u001b[0m",
      "\u001b[1;31mKeyboardInterrupt\u001b[0m                         Traceback (most recent call last)",
      "\u001b[1;32m<ipython-input-4-c84856086452>\u001b[0m in \u001b[0;36m<module>\u001b[1;34m\u001b[0m\n\u001b[0;32m     34\u001b[0m \u001b[1;33m\u001b[0m\u001b[0m\n\u001b[0;32m     35\u001b[0m                     \u001b[1;32mfor\u001b[0m \u001b[0mj\u001b[0m \u001b[1;32min\u001b[0m \u001b[0mrange\u001b[0m\u001b[1;33m(\u001b[0m\u001b[0md\u001b[0m\u001b[1;33m)\u001b[0m\u001b[1;33m:\u001b[0m\u001b[1;33m\u001b[0m\u001b[1;33m\u001b[0m\u001b[0m\n\u001b[1;32m---> 36\u001b[1;33m                         \u001b[0mrandomBeta\u001b[0m \u001b[1;33m=\u001b[0m \u001b[0mnp\u001b[0m\u001b[1;33m.\u001b[0m\u001b[0mrandom\u001b[0m\u001b[1;33m.\u001b[0m\u001b[0mbeta\u001b[0m\u001b[1;33m(\u001b[0m\u001b[0mnPosReward\u001b[0m\u001b[1;33m[\u001b[0m\u001b[0mj\u001b[0m\u001b[1;33m]\u001b[0m \u001b[1;33m+\u001b[0m \u001b[1;36m1\u001b[0m\u001b[1;33m,\u001b[0m \u001b[0mnNegReward\u001b[0m\u001b[1;33m[\u001b[0m\u001b[0mj\u001b[0m\u001b[1;33m]\u001b[0m \u001b[1;33m+\u001b[0m \u001b[1;36m1\u001b[0m\u001b[1;33m)\u001b[0m\u001b[1;33m\u001b[0m\u001b[1;33m\u001b[0m\u001b[0m\n\u001b[0m\u001b[0;32m     37\u001b[0m                         \u001b[1;32mif\u001b[0m \u001b[0mrandomBeta\u001b[0m \u001b[1;33m>\u001b[0m \u001b[0mmaxRandom\u001b[0m\u001b[1;33m:\u001b[0m\u001b[1;33m\u001b[0m\u001b[1;33m\u001b[0m\u001b[0m\n\u001b[0;32m     38\u001b[0m                             \u001b[0mmaxRandom\u001b[0m \u001b[1;33m=\u001b[0m \u001b[0mrandomBeta\u001b[0m\u001b[1;33m\u001b[0m\u001b[1;33m\u001b[0m\u001b[0m\n",
      "\u001b[1;31mKeyboardInterrupt\u001b[0m: "
     ]
    }
   ],
   "source": [
    "# Models comparison\n",
    "import pandas as pd\n",
    "\n",
    "N = [200, 1000, 5000]\n",
    "D = 20\n",
    "convRanges = [(0., 0.1), (0., 0.3), (0., 0.5)]\n",
    "\n",
    "results = list()\n",
    "for n in N:\n",
    "    for ranges in convRanges:\n",
    "        results.append([])\n",
    "        for d  in range(3, D + 1):\n",
    "            p1 = 0\n",
    "            p2 = 0\n",
    "\n",
    "            for rounds in range(1000):\n",
    "                \n",
    "                conversionRates = list()\n",
    "                for i in range(d):\n",
    "                    conversionRates.append(np.random.uniform(low = ranges[0], high = ranges[1]))\n",
    "                    \n",
    "                X = np.zeros((n,d))\n",
    "                for i in range(n):\n",
    "                    for j in range(d):\n",
    "                        if np.random.rand() < conversionRates[j]:\n",
    "                            X[i][j] = 1\n",
    "                \n",
    "                nPosReward = np.zeros(d)\n",
    "                nNegReward = np.zeros(d)\n",
    "                \n",
    "                for i in range(n):\n",
    "                    selected = 0\n",
    "                    maxRandom = 0\n",
    "                    \n",
    "                    for j in range(d):\n",
    "                        randomBeta = np.random.beta(nPosReward[j] + 1, nNegReward[j] + 1)\n",
    "                        if randomBeta > maxRandom:\n",
    "                            maxRandom = randomBeta\n",
    "                            selected = j\n",
    "                        \n",
    "                    if X[i][selected] == 1:\n",
    "                        nPosReward[selected] += 1\n",
    "                    else:\n",
    "                        nNegReward[selected] += 1\n",
    "                \n",
    "                nSelected = nPosReward + nNegReward\n",
    "                \n",
    "                left = n - max(nSelected)\n",
    "                \n",
    "                countStandard = np.zeros(d)\n",
    "                \n",
    "                x = int(left / d)\n",
    "                for i in range(x):\n",
    "                    for j in range(d):\n",
    "                        if X[i][j] == 1:\n",
    "                            countStandard[j] += 1\n",
    "                \n",
    "                bestStandard = np.argmax(countStandard)\n",
    "                bestReal = np.argmax(conversionRates)\n",
    "                bestTS = np.argmax(nSelected)\n",
    "\n",
    "                if bestTS == bestReal:\n",
    "                    p1 += 1\n",
    "                if bestStandard == bestReal:\n",
    "                    p2 += 1\n",
    "                \n",
    "            print('N = ' + str(n) + ' d = ' + str(d) + ' range = ' + str(ranges) + ' | result Thompson Sampling = ' + str(p1) + ' result Standard solution = ' + str(p2))\n",
    "            results.append([n, ranges, d, p1, p2])\n",
    "                \n",
    "df = pd.DataFrame(results)\n",
    "df.to_excel('results.xlsx', sheet_name = 'Result', index = False)"
   ]
  },
  {
   "cell_type": "code",
   "execution_count": 5,
   "id": "15481676",
   "metadata": {},
   "outputs": [
    {
     "data": {
      "image/png": "[encoded data removed]",
      "text/plain": [
       "<Figure size 432x288 with 1 Axes>"
      ]
     },
     "metadata": {
      "needs_background": "light"
     },
     "output_type": "display_data"
    }
   ],
   "source": [
    "plt.hist(nPosReward)\n",
    "plt.title('Number of Wins')\n",
    "plt.show()"
   ]
  },
  {
   "cell_type": "code",
   "execution_count": 6,
   "id": "e63100ba",
   "metadata": {},
   "outputs": [
    {
     "data": {
      "image/png": "[encoded data removed]",
      "text/plain": [
       "<Figure size 432x288 with 1 Axes>"
      ]
     },
     "metadata": {
      "needs_background": "light"
     },
     "output_type": "display_data"
    }
   ],
   "source": [
    "plt.hist(nNegReward)\n",
    "plt.title('Number of Losses')\n",
    "plt.show()"
   ]
  }
 ],
 "metadata": {
  "kernelspec": {
   "display_name": "Python 3",
   "language": "python",
   "name": "python3"
  },
  "language_info": {
   "codemirror_mode": {
    "name": "ipython",
    "version": 3
   },
   "file_extension": ".py",
   "mimetype": "text/x-python",
   "name": "python",
   "nbconvert_exporter": "python",
   "pygments_lexer": "ipython3",
   "version": "3.8.8"
  }
 },
 "nbformat": 4,
 "nbformat_minor": 5
}
