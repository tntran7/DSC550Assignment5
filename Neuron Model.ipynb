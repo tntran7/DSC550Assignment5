{
 "cells": [
  {
   "cell_type": "code",
   "execution_count": 20,
   "id": "6c0c1804",
   "metadata": {},
   "outputs": [],
   "source": [
    "import numpy as np\n",
    "import matplotlib.pyplot as plt"
   ]
  },
  {
   "cell_type": "code",
   "execution_count": 21,
   "id": "f35a0290",
   "metadata": {},
   "outputs": [],
   "source": [
    "#weights\n",
    "w1 = np.array([2, 1])\n",
    "w2 = np.array([1, -1])\n",
    "\n",
    "#bias\n",
    "b1 = np.array([2, -1])\n",
    "b2 = 0\n",
    "\n",
    "#input\n",
    "p = (np.linspace(-3, 3, 10)).reshape(-1, 1)"
   ]
  },
  {
   "cell_type": "code",
   "execution_count": 22,
   "id": "5a291c57",
   "metadata": {},
   "outputs": [],
   "source": [
    "#set input output relation\n",
    "class NN():\n",
    "    def __init__(self, w, b):\n",
    "        self.a = None\n",
    "        self.w = w\n",
    "        self.b = b\n",
    "    \n",
    "    def satlin(self, z, a = 's'):\n",
    "        if a == 's':\n",
    "            if z < 0:\n",
    "                return 0\n",
    "            elif z > 1:\n",
    "                return 1\n",
    "            else:\n",
    "                return z\n",
    "        \n",
    "    def purelin(self, x):\n",
    "        z = np.dot(self.w, x) + self.b\n",
    "        return z"
   ]
  },
  {
   "cell_type": "code",
   "execution_count": 23,
   "id": "e80abfa0",
   "metadata": {},
   "outputs": [],
   "source": [
    "z1_op = []\n",
    "z2_op = []\n",
    "z3_op = []\n",
    "\n",
    "a1_op = []\n",
    "a2_op = []\n",
    "a3_op = []\n",
    "\n",
    "# W1[1, 1] = 2, B1[1] = 2\n",
    "sat1 = NN(2, 2)\n",
    "\n",
    "# W1[2, 1] = 1, B1[2] = -1\n",
    "sat2 = NN(1, -1)\n",
    "\n",
    "# W2 = [1, -1], B2[1] = 0\n",
    "lin = NN([1, -1], 0)"
   ]
  },
  {
   "cell_type": "code",
   "execution_count": 24,
   "id": "c36d5c16",
   "metadata": {},
   "outputs": [
    {
     "name": "stdout",
     "output_type": "stream",
     "text": [
      "0\n",
      "0\n",
      "0\n",
      "[0.]\n",
      "1\n",
      "1\n",
      "[1.]\n",
      "[0.33333333]\n",
      "0\n",
      "0\n"
     ]
    }
   ],
   "source": [
    "for i in p:\n",
    "    #the frist layer - Sat.linear\n",
    "    z1 = sat1.purelin(i)\n",
    "    z2 = sat2.purelin(i)\n",
    "    z1_op.append(z1)\n",
    "    z2_op.append(z2)\n",
    "    \n",
    "    a1 = sat1.satlin(z1)\n",
    "    a2 = sat2.satlin(z2)\n",
    "    a1_op.append(a1)\n",
    "    a2_op.append(a2)\n",
    "    \n",
    "    #the second layer - Linear layer\n",
    "    z3 = a1*lin.w[0] + a2*lin.w[1] + lin.b\n",
    "    z3_op.append(z3)\n",
    "    op = lin.satlin(z3) \n",
    "    a3_op.append(op)\n",
    "    print(op)"
   ]
  },
  {
   "cell_type": "code",
   "execution_count": 26,
   "id": "75775ff9",
   "metadata": {},
   "outputs": [
    {
     "data": {
      "image/png": "[encoded data removed]",
      "text/plain": [
       "<Figure size 432x288 with 1 Axes>"
      ]
     },
     "metadata": {
      "needs_background": "light"
     },
     "output_type": "display_data"
    }
   ],
   "source": [
    "import warnings\n",
    "warnings.filterwarnings(action = 'ignore')\n",
    "\n",
    "fig = plt.figure()\n",
    "pt = plt.subplot(111)\n",
    "pt.plot(z1_op, label = 'n11')\n",
    "pt.plot(a1_op, label = 'a11')\n",
    "pt.plot(z2_op, label = 'n12')\n",
    "pt.plot(a2_op, label = 'a12')\n",
    "pt.plot(z3_op, label = 'n21')\n",
    "pt.plot(a3_op, label = 'a21')\n",
    "pt.plot(p, label = 'input')\n",
    "pt.legend()\n",
    "plt.show()"
   ]
  }
 ],
 "metadata": {
  "kernelspec": {
   "display_name": "Python 3",
   "language": "python",
   "name": "python3"
  },
  "language_info": {
   "codemirror_mode": {
    "name": "ipython",
    "version": 3
   },
   "file_extension": ".py",
   "mimetype": "text/x-python",
   "name": "python",
   "nbconvert_exporter": "python",
   "pygments_lexer": "ipython3",
   "version": "3.8.8"
  }
 },
 "nbformat": 4,
 "nbformat_minor": 5
}
